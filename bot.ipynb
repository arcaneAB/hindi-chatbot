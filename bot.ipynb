{
  "cells": [
    {
      "cell_type": "code",
      "execution_count": null,
      "metadata": {
        "id": "-3IQvv8E1Wgv"
      },
      "outputs": [],
      "source": [
        "import numpy as np\n",
        "import random\n",
        "import json\n",
        "import datetime\n",
        "# import wikipedia\n",
        "# import pywhatkit\n",
        "import pyttsx3\n",
        "from gtts import gTTS\n",
        "import speech_recognition as sr\n",
        "import nltk\n",
        "from nltk.stem.porter import PorterStemmer\n",
        "import torch\n",
        "import torch.nn as nn\n",
        "from torch.utils.data import Dataset,DataLoader"
      ]
    },
    {
      "cell_type": "code",
      "execution_count": null,
      "metadata": {
        "id": "pQlABhiq1Wgz"
      },
      "outputs": [],
      "source": [
        "# !pip install pyaudio"
      ]
    },
    {
      "cell_type": "code",
      "execution_count": null,
      "metadata": {
        "id": "JMVHnhbW1Wg0"
      },
      "outputs": [],
      "source": [
        "def Say(Text):\n",
        "    # obj = gTTS(text=Text,slow=False,lang='hi')\n",
        "    # obj.stream()\n",
        "    engine = pyttsx3.init(\"sapi5\")\n",
        "    voices = engine.getProperty('voices')\n",
        "    engine.setProperty('voices',voices[0].id)\n",
        "    engine.setProperty('rate',175)\n",
        "    engine.setProperty(\"languages\",'hi-In')\n",
        "    print(\" \")\n",
        "    print(f\"Bot: {Text}\")\n",
        "    engine.say(text=Text)\n",
        "    engine.runAndWait()\n",
        "    print(\" \")\n",
        "# Say(\"इंग्लिश\")"
      ]
    },
    {
      "cell_type": "code",
      "execution_count": null,
      "metadata": {
        "id": "XrNnDR9m1Wg2"
      },
      "outputs": [],
      "source": [
        "def Listen():\n",
        "    r = sr.Recognizer()\n",
        "\n",
        "    with sr.Microphone() as source:\n",
        "        print(\"Listening...\")\n",
        "        r.pause_threshold = 1\n",
        "        audio = r.listen(source,0,3)\n",
        "\n",
        "    try:\n",
        "        print(\"Wait...\")\n",
        "        query = r.recognize_google(audio,language='hi-In')\n",
        "        print(f\"Me: {query}\")\n",
        "    except:\n",
        "        return \"\"\n",
        "\n",
        "    query = str(query)\n",
        "    return query.lower()\n",
        "# Listen()\n"
      ]
    },
    {
      "cell_type": "code",
      "execution_count": null,
      "metadata": {
        "id": "6yTDKlKt1Wg3"
      },
      "outputs": [],
      "source": [
        "class NeuralNet(nn.Module):\n",
        "    def __init__(self,input_size,hidden_size,num_classes):\n",
        "        super(NeuralNet,self).__init__()\n",
        "        self.l1 = nn.Linear(input_size,hidden_size)\n",
        "        self.l2 = nn.Linear(hidden_size,hidden_size)\n",
        "        self.l3 = nn.Linear(hidden_size,num_classes)\n",
        "        self.relu = nn.ReLU()\n",
        "\n",
        "    def forward(self,x):\n",
        "        out = self.l1(x)\n",
        "        out = self.relu(out)\n",
        "        out = self.l2(out)\n",
        "        out = self.relu(out)\n",
        "        out = self.l3(out)\n",
        "        return out"
      ]
    },
    {
      "cell_type": "code",
      "execution_count": null,
      "metadata": {
        "id": "LoRembUL1Wg4"
      },
      "outputs": [],
      "source": [
        "Stemmer = PorterStemmer()\n",
        "\n",
        "def tokenize(sentence):\n",
        "    return nltk.word_tokenize(sentence)\n",
        "\n",
        "def stem(word):\n",
        "    return Stemmer.stem(word.lower())\n",
        "\n",
        "def bag_of_words(tokenized_sentence,words):\n",
        "    sentence_word = [stem(word) for word in tokenized_sentence]\n",
        "    bag = np.zeros(len(words),dtype=np.float32)\n",
        "\n",
        "    for idx, w in enumerate(words):\n",
        "        if w in sentence_word:\n",
        "            bag[idx] = 1\n",
        "    return bag"
      ]
    },
    {
      "cell_type": "code",
      "execution_count": null,
      "metadata": {
        "id": "pUhFcvKD1Wg4",
        "outputId": "024964ae-c051-4337-8a29-1c8fa9e1f612"
      },
      "outputs": [
        {
          "name": "stdout",
          "output_type": "stream",
          "text": [
            "Epoch [50/500], Loss:4.0983\n",
            "Epoch [100/500], Loss:3.5804\n",
            "Epoch [150/500], Loss:3.6340\n",
            "Epoch [200/500], Loss:3.1774\n",
            "Epoch [250/500], Loss:2.7995\n",
            "Epoch [300/500], Loss:3.4470\n",
            "Epoch [350/500], Loss:1.4827\n",
            "Epoch [400/500], Loss:3.4345\n",
            "Epoch [450/500], Loss:2.8416\n",
            "Epoch [500/500], Loss:2.8862\n",
            "Final Loss: 2.8862\n"
          ]
        }
      ],
      "source": [
        "with open('Hindi101.json','r',encoding=\"utf8\") as f:\n",
        "    intents = json.load(f)\n",
        "\n",
        "all_words = []\n",
        "tags = []\n",
        "xy = []\n",
        "\n",
        "for intent in intents['intents']:\n",
        "    tag = intent['tag']\n",
        "    tags.append(tag)\n",
        "\n",
        "    for pattern in intent['patterns']:\n",
        "        w = tokenize(pattern)\n",
        "        all_words.extend(w)\n",
        "        xy.append((w,tag))\n",
        "\n",
        "ignore_words = [',','?','/','!','.']\n",
        "all_words = [stem(w) for w in all_words if w not in ignore_words]\n",
        "all_words = sorted(set(all_words))\n",
        "tags = sorted(set(tags))\n",
        "\n",
        "x_train = []\n",
        "y_train = []\n",
        "\n",
        "for(pattern_sentence,tag) in xy:\n",
        "    bag = bag_of_words(pattern_sentence,all_words)\n",
        "    x_train.append(bag)\n",
        "\n",
        "    label = tags.index(tag)\n",
        "    y_train.append(label)\n",
        "\n",
        "x_train = np.array(x_train)\n",
        "y_train = np.array(y_train)\n",
        "\n",
        "num_epochs = 500\n",
        "batch_size = 8\n",
        "learning_rate = 0.0001\n",
        "input_size = len(x_train[0])\n",
        "hidden_size = 8\n",
        "output_size = len(tags)\n",
        "\n",
        "class ChatDataSet(Dataset):\n",
        "\n",
        "    def __init__(self):\n",
        "        self.n_samples = len(x_train)\n",
        "        self.x_data = x_train\n",
        "        self.y_data = y_train\n",
        "\n",
        "    def __getitem__(self,index):\n",
        "        return self.x_data[index],self.y_data[index]\n",
        "\n",
        "    def __len__(self):\n",
        "        return self.n_samples\n",
        "\n",
        "dataset=ChatDataSet()\n",
        "\n",
        "train_loader = DataLoader (\n",
        "                        dataset = dataset,\n",
        "                        batch_size = batch_size,\n",
        "                        shuffle = True,\n",
        "                        num_workers = 0 )\n",
        "device = torch.device('cuda' if torch.cuda.is_available() else 'cpu')\n",
        "model = NeuralNet(input_size,hidden_size,output_size).to(device=device)\n",
        "criterion = nn.CrossEntropyLoss()\n",
        "optimizer = torch.optim.Adam(model.parameters(),lr=learning_rate)\n",
        "\n",
        "for epoch in range(num_epochs):\n",
        "    for(words,labels) in train_loader:\n",
        "        words = words.to(device)\n",
        "        labels = labels.to(dtype=torch.long).to(device)\n",
        "        outputs = model(words)\n",
        "        loss = criterion(outputs,labels)\n",
        "        optimizer.zero_grad()\n",
        "        loss.backward()\n",
        "        optimizer.step()\n",
        "\n",
        "    if (epoch+1) % 50 == 0:\n",
        "        print(f\"Epoch [{epoch+1}/{num_epochs}], Loss:{loss.item():.4f}\")\n",
        "\n",
        "print(f\"Final Loss: {loss.item():.4f}\")\n",
        "data = {\n",
        "    \"model_state\":model.state_dict(),\n",
        "    \"input_size\":input_size,\n",
        "    \"hidden_size\":hidden_size,\n",
        "    \"output_size\":output_size,\n",
        "    \"all_words\":all_words,\n",
        "    \"tags\":tags\n",
        "}\n",
        "\n",
        "FILE = \"TrainData.pth\"\n",
        "torch.save(data,FILE)"
      ]
    },
    {
      "cell_type": "code",
      "execution_count": null,
      "metadata": {
        "id": "VcnkzTCT1Wg9",
        "outputId": "82fc75c4-3fa1-42e6-af6e-1fa44d2e2889"
      },
      "outputs": [
        {
          "name": "stdout",
          "output_type": "stream",
          "text": [
            "Listening...\n",
            "Wait...\n",
            " \n",
            "Bot: कृपया अपना प्रश्न विस्तृत करें\n",
            " \n",
            "Listening...\n",
            "Wait...\n",
            " \n",
            "Bot: आपके प्रश्न को नहीं समझ सकता\n",
            " \n",
            "Listening...\n"
          ]
        },
        {
          "ename": "KeyboardInterrupt",
          "evalue": "",
          "output_type": "error",
          "traceback": [
            "\u001b[1;31m---------------------------------------------------------------------------\u001b[0m",
            "\u001b[1;31mKeyboardInterrupt\u001b[0m                         Traceback (most recent call last)",
            "\u001b[1;32mc:\\Users\\absin\\Desktop\\abhay desktop\\chatbot stuff\\testing hindibot\\testing.ipynb Cell 8\u001b[0m in \u001b[0;36m<cell line: 47>\u001b[1;34m()\u001b[0m\n\u001b[0;32m     <a href='vscode-notebook-cell:/c%3A/Users/absin/Desktop/abhay%20desktop/chatbot%20stuff/testing%20hindibot/testing.ipynb#X10sZmlsZQ%3D%3D?line=45'>46</a>\u001b[0m queries \u001b[39m=\u001b[39m \u001b[39m10\u001b[39m\n\u001b[0;32m     <a href='vscode-notebook-cell:/c%3A/Users/absin/Desktop/abhay%20desktop/chatbot%20stuff/testing%20hindibot/testing.ipynb#X10sZmlsZQ%3D%3D?line=46'>47</a>\u001b[0m \u001b[39mwhile\u001b[39;00m queries:\n\u001b[1;32m---> <a href='vscode-notebook-cell:/c%3A/Users/absin/Desktop/abhay%20desktop/chatbot%20stuff/testing%20hindibot/testing.ipynb#X10sZmlsZQ%3D%3D?line=47'>48</a>\u001b[0m     Main()\n\u001b[0;32m     <a href='vscode-notebook-cell:/c%3A/Users/absin/Desktop/abhay%20desktop/chatbot%20stuff/testing%20hindibot/testing.ipynb#X10sZmlsZQ%3D%3D?line=48'>49</a>\u001b[0m     queries \u001b[39m-\u001b[39m\u001b[39m=\u001b[39m \u001b[39m1\u001b[39m\n",
            "\u001b[1;32mc:\\Users\\absin\\Desktop\\abhay desktop\\chatbot stuff\\testing hindibot\\testing.ipynb Cell 8\u001b[0m in \u001b[0;36mMain\u001b[1;34m()\u001b[0m\n\u001b[0;32m     <a href='vscode-notebook-cell:/c%3A/Users/absin/Desktop/abhay%20desktop/chatbot%20stuff/testing%20hindibot/testing.ipynb#X10sZmlsZQ%3D%3D?line=19'>20</a>\u001b[0m \u001b[39mdef\u001b[39;00m \u001b[39mMain\u001b[39m():\n\u001b[1;32m---> <a href='vscode-notebook-cell:/c%3A/Users/absin/Desktop/abhay%20desktop/chatbot%20stuff/testing%20hindibot/testing.ipynb#X10sZmlsZQ%3D%3D?line=20'>21</a>\u001b[0m     sentence \u001b[39m=\u001b[39m Listen()\n\u001b[0;32m     <a href='vscode-notebook-cell:/c%3A/Users/absin/Desktop/abhay%20desktop/chatbot%20stuff/testing%20hindibot/testing.ipynb#X10sZmlsZQ%3D%3D?line=22'>23</a>\u001b[0m     \u001b[39mif\u001b[39;00m sentence \u001b[39m==\u001b[39m \u001b[39m'\u001b[39m\u001b[39mbye\u001b[39m\u001b[39m'\u001b[39m:\n\u001b[0;32m     <a href='vscode-notebook-cell:/c%3A/Users/absin/Desktop/abhay%20desktop/chatbot%20stuff/testing%20hindibot/testing.ipynb#X10sZmlsZQ%3D%3D?line=23'>24</a>\u001b[0m         exit()\n",
            "\u001b[1;32mc:\\Users\\absin\\Desktop\\abhay desktop\\chatbot stuff\\testing hindibot\\testing.ipynb Cell 8\u001b[0m in \u001b[0;36mListen\u001b[1;34m()\u001b[0m\n\u001b[0;32m      <a href='vscode-notebook-cell:/c%3A/Users/absin/Desktop/abhay%20desktop/chatbot%20stuff/testing%20hindibot/testing.ipynb#X10sZmlsZQ%3D%3D?line=4'>5</a>\u001b[0m     \u001b[39mprint\u001b[39m(\u001b[39m\"\u001b[39m\u001b[39mListening...\u001b[39m\u001b[39m\"\u001b[39m)\n\u001b[0;32m      <a href='vscode-notebook-cell:/c%3A/Users/absin/Desktop/abhay%20desktop/chatbot%20stuff/testing%20hindibot/testing.ipynb#X10sZmlsZQ%3D%3D?line=5'>6</a>\u001b[0m     r\u001b[39m.\u001b[39mpause_threshold \u001b[39m=\u001b[39m \u001b[39m1\u001b[39m\n\u001b[1;32m----> <a href='vscode-notebook-cell:/c%3A/Users/absin/Desktop/abhay%20desktop/chatbot%20stuff/testing%20hindibot/testing.ipynb#X10sZmlsZQ%3D%3D?line=6'>7</a>\u001b[0m     audio \u001b[39m=\u001b[39m r\u001b[39m.\u001b[39;49mlisten(source,\u001b[39m0\u001b[39;49m,\u001b[39m3\u001b[39;49m)\n\u001b[0;32m      <a href='vscode-notebook-cell:/c%3A/Users/absin/Desktop/abhay%20desktop/chatbot%20stuff/testing%20hindibot/testing.ipynb#X10sZmlsZQ%3D%3D?line=8'>9</a>\u001b[0m \u001b[39mtry\u001b[39;00m:\n\u001b[0;32m     <a href='vscode-notebook-cell:/c%3A/Users/absin/Desktop/abhay%20desktop/chatbot%20stuff/testing%20hindibot/testing.ipynb#X10sZmlsZQ%3D%3D?line=9'>10</a>\u001b[0m     \u001b[39mprint\u001b[39m(\u001b[39m\"\u001b[39m\u001b[39mWait...\u001b[39m\u001b[39m\"\u001b[39m)\n",
            "File \u001b[1;32mc:\\Users\\absin\\AppData\\Local\\Programs\\Python\\Python39\\lib\\site-packages\\speech_recognition\\__init__.py:523\u001b[0m, in \u001b[0;36mRecognizer.listen\u001b[1;34m(self, source, timeout, phrase_time_limit, snowboy_configuration)\u001b[0m\n\u001b[0;32m    520\u001b[0m \u001b[39mif\u001b[39;00m phrase_time_limit \u001b[39mand\u001b[39;00m elapsed_time \u001b[39m-\u001b[39m phrase_start_time \u001b[39m>\u001b[39m phrase_time_limit:\n\u001b[0;32m    521\u001b[0m     \u001b[39mbreak\u001b[39;00m\n\u001b[1;32m--> 523\u001b[0m buffer \u001b[39m=\u001b[39m source\u001b[39m.\u001b[39;49mstream\u001b[39m.\u001b[39;49mread(source\u001b[39m.\u001b[39;49mCHUNK)\n\u001b[0;32m    524\u001b[0m \u001b[39mif\u001b[39;00m \u001b[39mlen\u001b[39m(buffer) \u001b[39m==\u001b[39m \u001b[39m0\u001b[39m: \u001b[39mbreak\u001b[39;00m  \u001b[39m# reached end of the stream\u001b[39;00m\n\u001b[0;32m    525\u001b[0m frames\u001b[39m.\u001b[39mappend(buffer)\n",
            "File \u001b[1;32mc:\\Users\\absin\\AppData\\Local\\Programs\\Python\\Python39\\lib\\site-packages\\speech_recognition\\__init__.py:199\u001b[0m, in \u001b[0;36mMicrophone.MicrophoneStream.read\u001b[1;34m(self, size)\u001b[0m\n\u001b[0;32m    198\u001b[0m \u001b[39mdef\u001b[39;00m \u001b[39mread\u001b[39m(\u001b[39mself\u001b[39m, size):\n\u001b[1;32m--> 199\u001b[0m     \u001b[39mreturn\u001b[39;00m \u001b[39mself\u001b[39;49m\u001b[39m.\u001b[39;49mpyaudio_stream\u001b[39m.\u001b[39;49mread(size, exception_on_overflow\u001b[39m=\u001b[39;49m\u001b[39mFalse\u001b[39;49;00m)\n",
            "File \u001b[1;32mc:\\Users\\absin\\AppData\\Local\\Programs\\Python\\Python39\\lib\\site-packages\\pyaudio\\__init__.py:570\u001b[0m, in \u001b[0;36mPyAudio.Stream.read\u001b[1;34m(self, num_frames, exception_on_overflow)\u001b[0m\n\u001b[0;32m    567\u001b[0m \u001b[39mif\u001b[39;00m \u001b[39mnot\u001b[39;00m \u001b[39mself\u001b[39m\u001b[39m.\u001b[39m_is_input:\n\u001b[0;32m    568\u001b[0m     \u001b[39mraise\u001b[39;00m \u001b[39mIOError\u001b[39;00m(\u001b[39m\"\u001b[39m\u001b[39mNot input stream\u001b[39m\u001b[39m\"\u001b[39m,\n\u001b[0;32m    569\u001b[0m                   paCanNotReadFromAnOutputOnlyStream)\n\u001b[1;32m--> 570\u001b[0m \u001b[39mreturn\u001b[39;00m pa\u001b[39m.\u001b[39;49mread_stream(\u001b[39mself\u001b[39;49m\u001b[39m.\u001b[39;49m_stream, num_frames,\n\u001b[0;32m    571\u001b[0m                       exception_on_overflow)\n",
            "\u001b[1;31mKeyboardInterrupt\u001b[0m: "
          ]
        }
      ],
      "source": [
        "device = torch.device('cuda' if torch.cuda.is_available() else 'cpu')\n",
        "with open('Hindi101.json','r',encoding=\"utf8\") as json_data:\n",
        "    intents = json.load(json_data)\n",
        "\n",
        "FILE = \"TrainData.pth\"\n",
        "data = torch.load(FILE)\n",
        "\n",
        "input_size = data['input_size']\n",
        "hidden_size = data['hidden_size']\n",
        "output_size = data['output_size']\n",
        "all_words = data['all_words']\n",
        "tags = data['tags']\n",
        "model_state = data['model_state']\n",
        "\n",
        "model = NeuralNet(input_size,hidden_size,output_size).to(device)\n",
        "model.load_state_dict(model_state)\n",
        "model.eval()\n",
        "\n",
        "\n",
        "def Main():\n",
        "    sentence = Listen()\n",
        "\n",
        "    if sentence == 'bye':\n",
        "        exit()\n",
        "\n",
        "    sentence = tokenize(sentence)\n",
        "    X = bag_of_words(sentence,all_words)\n",
        "    X = X.reshape(1,X.shape[0])\n",
        "    X = torch.from_numpy(X).to(device)\n",
        "\n",
        "    output = model(X)\n",
        "\n",
        "    _,predicted = torch.max(output,dim=1)\n",
        "    tag = tags[predicted.item()]\n",
        "\n",
        "    probs = torch.softmax(output,dim=1)\n",
        "    prob = probs[0][predicted.item()]\n",
        "\n",
        "    if prob.item()>0.75:\n",
        "        for intent in intents['intents']:\n",
        "            if tag == intent[\"tag\"]:\n",
        "                reply = random.choice(intent[\"responses\"])\n",
        "                Say(reply)\n",
        "                break\n",
        "\n",
        "queries = 10\n",
        "while queries:\n",
        "    Main()\n",
        "    queries -= 1"
      ]
    }
  ],
  "metadata": {
    "kernelspec": {
      "display_name": "Python 3.10.5 64-bit",
      "language": "python",
      "name": "python3"
    },
    "language_info": {
      "codemirror_mode": {
        "name": "ipython",
        "version": 3
      },
      "file_extension": ".py",
      "mimetype": "text/x-python",
      "name": "python",
      "nbconvert_exporter": "python",
      "pygments_lexer": "ipython3",
      "version": "3.9.10"
    },
    "orig_nbformat": 4,
    "vscode": {
      "interpreter": {
        "hash": "8b97f150e72c12d4ceb18eccac53be5b0e7ca5c002f31836e4af228f3cd0d1aa"
      }
    },
    "colab": {
      "provenance": []
    }
  },
  "nbformat": 4,
  "nbformat_minor": 0
}